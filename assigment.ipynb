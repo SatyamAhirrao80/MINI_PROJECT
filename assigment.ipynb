{
 "cells": [
  {
   "cell_type": "code",
   "execution_count": 1,
   "id": "c5140b1d",
   "metadata": {},
   "outputs": [],
   "source": [
    "import pandas as pd\n",
    "import matplotlib.pyplot as plt\n",
    "import seaborn as sns\n",
    "from sklearn.model_selection import train_test_split\n",
    "from sklearn.ensemble import RandomForestClassifier"
   ]
  },
  {
   "cell_type": "code",
   "execution_count": 2,
   "id": "023da7da",
   "metadata": {},
   "outputs": [
    {
     "data": {
      "text/html": [
       "<div>\n",
       "<style scoped>\n",
       "    .dataframe tbody tr th:only-of-type {\n",
       "        vertical-align: middle;\n",
       "    }\n",
       "\n",
       "    .dataframe tbody tr th {\n",
       "        vertical-align: top;\n",
       "    }\n",
       "\n",
       "    .dataframe thead th {\n",
       "        text-align: right;\n",
       "    }\n",
       "</style>\n",
       "<table border=\"1\" class=\"dataframe\">\n",
       "  <thead>\n",
       "    <tr style=\"text-align: right;\">\n",
       "      <th></th>\n",
       "      <th>step</th>\n",
       "      <th>type</th>\n",
       "      <th>amount</th>\n",
       "      <th>nameOrig</th>\n",
       "      <th>oldbalanceOrg</th>\n",
       "      <th>newbalanceOrig</th>\n",
       "      <th>nameDest</th>\n",
       "      <th>oldbalanceDest</th>\n",
       "      <th>newbalanceDest</th>\n",
       "      <th>isFraud</th>\n",
       "      <th>isFlaggedFraud</th>\n",
       "    </tr>\n",
       "  </thead>\n",
       "  <tbody>\n",
       "    <tr>\n",
       "      <th>0</th>\n",
       "      <td>1</td>\n",
       "      <td>PAYMENT</td>\n",
       "      <td>9839.64</td>\n",
       "      <td>C1231006815</td>\n",
       "      <td>170136.0</td>\n",
       "      <td>160296.36</td>\n",
       "      <td>M1979787155</td>\n",
       "      <td>0.0</td>\n",
       "      <td>0.0</td>\n",
       "      <td>0</td>\n",
       "      <td>0</td>\n",
       "    </tr>\n",
       "    <tr>\n",
       "      <th>1</th>\n",
       "      <td>1</td>\n",
       "      <td>PAYMENT</td>\n",
       "      <td>1864.28</td>\n",
       "      <td>C1666544295</td>\n",
       "      <td>21249.0</td>\n",
       "      <td>19384.72</td>\n",
       "      <td>M2044282225</td>\n",
       "      <td>0.0</td>\n",
       "      <td>0.0</td>\n",
       "      <td>0</td>\n",
       "      <td>0</td>\n",
       "    </tr>\n",
       "    <tr>\n",
       "      <th>2</th>\n",
       "      <td>1</td>\n",
       "      <td>TRANSFER</td>\n",
       "      <td>181.00</td>\n",
       "      <td>C1305486145</td>\n",
       "      <td>181.0</td>\n",
       "      <td>0.00</td>\n",
       "      <td>C553264065</td>\n",
       "      <td>0.0</td>\n",
       "      <td>0.0</td>\n",
       "      <td>1</td>\n",
       "      <td>0</td>\n",
       "    </tr>\n",
       "    <tr>\n",
       "      <th>3</th>\n",
       "      <td>1</td>\n",
       "      <td>CASH_OUT</td>\n",
       "      <td>181.00</td>\n",
       "      <td>C840083671</td>\n",
       "      <td>181.0</td>\n",
       "      <td>0.00</td>\n",
       "      <td>C38997010</td>\n",
       "      <td>21182.0</td>\n",
       "      <td>0.0</td>\n",
       "      <td>1</td>\n",
       "      <td>0</td>\n",
       "    </tr>\n",
       "    <tr>\n",
       "      <th>4</th>\n",
       "      <td>1</td>\n",
       "      <td>PAYMENT</td>\n",
       "      <td>11668.14</td>\n",
       "      <td>C2048537720</td>\n",
       "      <td>41554.0</td>\n",
       "      <td>29885.86</td>\n",
       "      <td>M1230701703</td>\n",
       "      <td>0.0</td>\n",
       "      <td>0.0</td>\n",
       "      <td>0</td>\n",
       "      <td>0</td>\n",
       "    </tr>\n",
       "  </tbody>\n",
       "</table>\n",
       "</div>"
      ],
      "text/plain": [
       "   step      type    amount     nameOrig  oldbalanceOrg  newbalanceOrig  \\\n",
       "0     1   PAYMENT   9839.64  C1231006815       170136.0       160296.36   \n",
       "1     1   PAYMENT   1864.28  C1666544295        21249.0        19384.72   \n",
       "2     1  TRANSFER    181.00  C1305486145          181.0            0.00   \n",
       "3     1  CASH_OUT    181.00   C840083671          181.0            0.00   \n",
       "4     1   PAYMENT  11668.14  C2048537720        41554.0        29885.86   \n",
       "\n",
       "      nameDest  oldbalanceDest  newbalanceDest  isFraud  isFlaggedFraud  \n",
       "0  M1979787155             0.0             0.0        0               0  \n",
       "1  M2044282225             0.0             0.0        0               0  \n",
       "2   C553264065             0.0             0.0        1               0  \n",
       "3    C38997010         21182.0             0.0        1               0  \n",
       "4  M1230701703             0.0             0.0        0               0  "
      ]
     },
     "execution_count": 2,
     "metadata": {},
     "output_type": "execute_result"
    },
    {
     "data": {
      "text/html": [
       "<div>\n",
       "<style scoped>\n",
       "    .dataframe tbody tr th:only-of-type {\n",
       "        vertical-align: middle;\n",
       "    }\n",
       "\n",
       "    .dataframe tbody tr th {\n",
       "        vertical-align: top;\n",
       "    }\n",
       "\n",
       "    .dataframe thead th {\n",
       "        text-align: right;\n",
       "    }\n",
       "</style>\n",
       "<table border=\"1\" class=\"dataframe\">\n",
       "  <thead>\n",
       "    <tr style=\"text-align: right;\">\n",
       "      <th></th>\n",
       "      <th>step</th>\n",
       "      <th>type</th>\n",
       "      <th>amount</th>\n",
       "      <th>nameOrig</th>\n",
       "      <th>oldbalanceOrg</th>\n",
       "      <th>newbalanceOrig</th>\n",
       "      <th>nameDest</th>\n",
       "      <th>oldbalanceDest</th>\n",
       "      <th>newbalanceDest</th>\n",
       "      <th>isFraud</th>\n",
       "      <th>isFlaggedFraud</th>\n",
       "    </tr>\n",
       "  </thead>\n",
       "  <tbody>\n",
       "    <tr>\n",
       "      <th>0</th>\n",
       "      <td>1</td>\n",
       "      <td>PAYMENT</td>\n",
       "      <td>9839.64</td>\n",
       "      <td>C1231006815</td>\n",
       "      <td>170136.0</td>\n",
       "      <td>160296.36</td>\n",
       "      <td>M1979787155</td>\n",
       "      <td>0.0</td>\n",
       "      <td>0.0</td>\n",
       "      <td>0</td>\n",
       "      <td>0</td>\n",
       "    </tr>\n",
       "    <tr>\n",
       "      <th>1</th>\n",
       "      <td>1</td>\n",
       "      <td>PAYMENT</td>\n",
       "      <td>1864.28</td>\n",
       "      <td>C1666544295</td>\n",
       "      <td>21249.0</td>\n",
       "      <td>19384.72</td>\n",
       "      <td>M2044282225</td>\n",
       "      <td>0.0</td>\n",
       "      <td>0.0</td>\n",
       "      <td>0</td>\n",
       "      <td>0</td>\n",
       "    </tr>\n",
       "    <tr>\n",
       "      <th>2</th>\n",
       "      <td>1</td>\n",
       "      <td>TRANSFER</td>\n",
       "      <td>181.00</td>\n",
       "      <td>C1305486145</td>\n",
       "      <td>181.0</td>\n",
       "      <td>0.00</td>\n",
       "      <td>C553264065</td>\n",
       "      <td>0.0</td>\n",
       "      <td>0.0</td>\n",
       "      <td>1</td>\n",
       "      <td>0</td>\n",
       "    </tr>\n",
       "    <tr>\n",
       "      <th>3</th>\n",
       "      <td>1</td>\n",
       "      <td>CASH_OUT</td>\n",
       "      <td>181.00</td>\n",
       "      <td>C840083671</td>\n",
       "      <td>181.0</td>\n",
       "      <td>0.00</td>\n",
       "      <td>C38997010</td>\n",
       "      <td>21182.0</td>\n",
       "      <td>0.0</td>\n",
       "      <td>1</td>\n",
       "      <td>0</td>\n",
       "    </tr>\n",
       "    <tr>\n",
       "      <th>4</th>\n",
       "      <td>1</td>\n",
       "      <td>PAYMENT</td>\n",
       "      <td>11668.14</td>\n",
       "      <td>C2048537720</td>\n",
       "      <td>41554.0</td>\n",
       "      <td>29885.86</td>\n",
       "      <td>M1230701703</td>\n",
       "      <td>0.0</td>\n",
       "      <td>0.0</td>\n",
       "      <td>0</td>\n",
       "      <td>0</td>\n",
       "    </tr>\n",
       "  </tbody>\n",
       "</table>\n",
       "</div>"
      ],
      "text/plain": [
       "   step      type    amount     nameOrig  oldbalanceOrg  newbalanceOrig  \\\n",
       "0     1   PAYMENT   9839.64  C1231006815       170136.0       160296.36   \n",
       "1     1   PAYMENT   1864.28  C1666544295        21249.0        19384.72   \n",
       "2     1  TRANSFER    181.00  C1305486145          181.0            0.00   \n",
       "3     1  CASH_OUT    181.00   C840083671          181.0            0.00   \n",
       "4     1   PAYMENT  11668.14  C2048537720        41554.0        29885.86   \n",
       "\n",
       "      nameDest  oldbalanceDest  newbalanceDest  isFraud  isFlaggedFraud  \n",
       "0  M1979787155             0.0             0.0        0               0  \n",
       "1  M2044282225             0.0             0.0        0               0  \n",
       "2   C553264065             0.0             0.0        1               0  \n",
       "3    C38997010         21182.0             0.0        1               0  \n",
       "4  M1230701703             0.0             0.0        0               0  "
      ]
     },
     "execution_count": 2,
     "metadata": {},
     "output_type": "execute_result"
    }
   ],
   "source": [
    "df=pd.read_csv(\"Fraud.csv\")\n",
    "df.head()"
   ]
  },
  {
   "cell_type": "code",
   "execution_count": 3,
   "id": "0c70087a",
   "metadata": {},
   "outputs": [],
   "source": [
    "df.rename(columns={\"nameOrig\": \"customername\"}, inplace=True)\n",
    "df.rename(columns={\"oldbalanceOrg\": \"inti_balence\"}, inplace=True)\n",
    "df.rename(columns={\"newbalanceOrig\": \"new_balance_t\"}, inplace=True)\n",
    "df.rename(columns={\"nameDest\": \"recipient_custmer\"}, inplace=True)\n"
   ]
  },
  {
   "cell_type": "code",
   "execution_count": 4,
   "id": "2e620db4",
   "metadata": {},
   "outputs": [
    {
     "data": {
      "text/plain": [
       "(6362620, 11)"
      ]
     },
     "execution_count": 4,
     "metadata": {},
     "output_type": "execute_result"
    },
    {
     "data": {
      "text/plain": [
       "(6362620, 11)"
      ]
     },
     "execution_count": 4,
     "metadata": {},
     "output_type": "execute_result"
    }
   ],
   "source": [
    "df.shape"
   ]
  },
  {
   "cell_type": "code",
   "execution_count": 5,
   "id": "554af601",
   "metadata": {},
   "outputs": [
    {
     "data": {
      "text/plain": [
       "step                 0\n",
       "type                 0\n",
       "amount               0\n",
       "customername         0\n",
       "inti_balence         0\n",
       "new_balance_t        0\n",
       "recipient_custmer    0\n",
       "oldbalanceDest       0\n",
       "newbalanceDest       0\n",
       "isFraud              0\n",
       "isFlaggedFraud       0\n",
       "dtype: int64"
      ]
     },
     "execution_count": 5,
     "metadata": {},
     "output_type": "execute_result"
    },
    {
     "data": {
      "text/plain": [
       "step                 0\n",
       "type                 0\n",
       "amount               0\n",
       "customername         0\n",
       "inti_balence         0\n",
       "new_balance_t        0\n",
       "recipient_custmer    0\n",
       "oldbalanceDest       0\n",
       "newbalanceDest       0\n",
       "isFraud              0\n",
       "isFlaggedFraud       0\n",
       "dtype: int64"
      ]
     },
     "execution_count": 5,
     "metadata": {},
     "output_type": "execute_result"
    }
   ],
   "source": [
    "df.isnull().sum()"
   ]
  },
  {
   "cell_type": "code",
   "execution_count": null,
   "id": "4988afde",
   "metadata": {},
   "outputs": [],
   "source": []
  },
  {
   "cell_type": "code",
   "execution_count": 6,
   "id": "fd80f52c",
   "metadata": {},
   "outputs": [
    {
     "name": "stdout",
     "output_type": "stream",
     "text": [
      "<class 'pandas.core.frame.DataFrame'>\n",
      "RangeIndex: 6362620 entries, 0 to 6362619\n",
      "Data columns (total 11 columns):\n",
      " #   Column             Dtype  \n",
      "---  ------             -----  \n",
      " 0   step               int64  \n",
      " 1   type               object \n",
      " 2   amount             float64\n",
      " 3   customername       object \n",
      " 4   inti_balence       float64\n",
      " 5   new_balance_t      float64\n",
      " 6   recipient_custmer  object \n",
      " 7   oldbalanceDest     float64\n",
      " 8   newbalanceDest     float64\n",
      " 9   isFraud            int64  \n",
      " 10  isFlaggedFraud     int64  \n",
      "dtypes: float64(5), int64(3), object(3)\n",
      "memory usage: 534.0+ MB\n",
      "<class 'pandas.core.frame.DataFrame'>\n",
      "RangeIndex: 6362620 entries, 0 to 6362619\n",
      "Data columns (total 11 columns):\n",
      " #   Column             Dtype  \n",
      "---  ------             -----  \n",
      " 0   step               int64  \n",
      " 1   type               object \n",
      " 2   amount             float64\n",
      " 3   customername       object \n",
      " 4   inti_balence       float64\n",
      " 5   new_balance_t      float64\n",
      " 6   recipient_custmer  object \n",
      " 7   oldbalanceDest     float64\n",
      " 8   newbalanceDest     float64\n",
      " 9   isFraud            int64  \n",
      " 10  isFlaggedFraud     int64  \n",
      "dtypes: float64(5), int64(3), object(3)\n",
      "memory usage: 534.0+ MB\n"
     ]
    }
   ],
   "source": [
    "df.info()"
   ]
  },
  {
   "cell_type": "code",
   "execution_count": null,
   "id": "910a9a4d",
   "metadata": {},
   "outputs": [],
   "source": []
  },
  {
   "cell_type": "code",
   "execution_count": 7,
   "id": "d84b93c9",
   "metadata": {},
   "outputs": [
    {
     "data": {
      "text/html": [
       "<div>\n",
       "<style scoped>\n",
       "    .dataframe tbody tr th:only-of-type {\n",
       "        vertical-align: middle;\n",
       "    }\n",
       "\n",
       "    .dataframe tbody tr th {\n",
       "        vertical-align: top;\n",
       "    }\n",
       "\n",
       "    .dataframe thead th {\n",
       "        text-align: right;\n",
       "    }\n",
       "</style>\n",
       "<table border=\"1\" class=\"dataframe\">\n",
       "  <thead>\n",
       "    <tr style=\"text-align: right;\">\n",
       "      <th></th>\n",
       "      <th>step</th>\n",
       "      <th>amount</th>\n",
       "      <th>inti_balence</th>\n",
       "      <th>new_balance_t</th>\n",
       "      <th>oldbalanceDest</th>\n",
       "      <th>newbalanceDest</th>\n",
       "      <th>isFraud</th>\n",
       "      <th>isFlaggedFraud</th>\n",
       "    </tr>\n",
       "  </thead>\n",
       "  <tbody>\n",
       "    <tr>\n",
       "      <th>count</th>\n",
       "      <td>6.362620e+06</td>\n",
       "      <td>6.362620e+06</td>\n",
       "      <td>6.362620e+06</td>\n",
       "      <td>6.362620e+06</td>\n",
       "      <td>6.362620e+06</td>\n",
       "      <td>6.362620e+06</td>\n",
       "      <td>6.362620e+06</td>\n",
       "      <td>6.362620e+06</td>\n",
       "    </tr>\n",
       "    <tr>\n",
       "      <th>mean</th>\n",
       "      <td>2.433972e+02</td>\n",
       "      <td>1.798619e+05</td>\n",
       "      <td>8.338831e+05</td>\n",
       "      <td>8.551137e+05</td>\n",
       "      <td>1.100702e+06</td>\n",
       "      <td>1.224996e+06</td>\n",
       "      <td>1.290820e-03</td>\n",
       "      <td>2.514687e-06</td>\n",
       "    </tr>\n",
       "    <tr>\n",
       "      <th>std</th>\n",
       "      <td>1.423320e+02</td>\n",
       "      <td>6.038582e+05</td>\n",
       "      <td>2.888243e+06</td>\n",
       "      <td>2.924049e+06</td>\n",
       "      <td>3.399180e+06</td>\n",
       "      <td>3.674129e+06</td>\n",
       "      <td>3.590480e-02</td>\n",
       "      <td>1.585775e-03</td>\n",
       "    </tr>\n",
       "    <tr>\n",
       "      <th>min</th>\n",
       "      <td>1.000000e+00</td>\n",
       "      <td>0.000000e+00</td>\n",
       "      <td>0.000000e+00</td>\n",
       "      <td>0.000000e+00</td>\n",
       "      <td>0.000000e+00</td>\n",
       "      <td>0.000000e+00</td>\n",
       "      <td>0.000000e+00</td>\n",
       "      <td>0.000000e+00</td>\n",
       "    </tr>\n",
       "    <tr>\n",
       "      <th>25%</th>\n",
       "      <td>1.560000e+02</td>\n",
       "      <td>1.338957e+04</td>\n",
       "      <td>0.000000e+00</td>\n",
       "      <td>0.000000e+00</td>\n",
       "      <td>0.000000e+00</td>\n",
       "      <td>0.000000e+00</td>\n",
       "      <td>0.000000e+00</td>\n",
       "      <td>0.000000e+00</td>\n",
       "    </tr>\n",
       "    <tr>\n",
       "      <th>50%</th>\n",
       "      <td>2.390000e+02</td>\n",
       "      <td>7.487194e+04</td>\n",
       "      <td>1.420800e+04</td>\n",
       "      <td>0.000000e+00</td>\n",
       "      <td>1.327057e+05</td>\n",
       "      <td>2.146614e+05</td>\n",
       "      <td>0.000000e+00</td>\n",
       "      <td>0.000000e+00</td>\n",
       "    </tr>\n",
       "    <tr>\n",
       "      <th>75%</th>\n",
       "      <td>3.350000e+02</td>\n",
       "      <td>2.087215e+05</td>\n",
       "      <td>1.073152e+05</td>\n",
       "      <td>1.442584e+05</td>\n",
       "      <td>9.430367e+05</td>\n",
       "      <td>1.111909e+06</td>\n",
       "      <td>0.000000e+00</td>\n",
       "      <td>0.000000e+00</td>\n",
       "    </tr>\n",
       "    <tr>\n",
       "      <th>max</th>\n",
       "      <td>7.430000e+02</td>\n",
       "      <td>9.244552e+07</td>\n",
       "      <td>5.958504e+07</td>\n",
       "      <td>4.958504e+07</td>\n",
       "      <td>3.560159e+08</td>\n",
       "      <td>3.561793e+08</td>\n",
       "      <td>1.000000e+00</td>\n",
       "      <td>1.000000e+00</td>\n",
       "    </tr>\n",
       "  </tbody>\n",
       "</table>\n",
       "</div>"
      ],
      "text/plain": [
       "               step        amount  inti_balence  new_balance_t  \\\n",
       "count  6.362620e+06  6.362620e+06  6.362620e+06   6.362620e+06   \n",
       "mean   2.433972e+02  1.798619e+05  8.338831e+05   8.551137e+05   \n",
       "std    1.423320e+02  6.038582e+05  2.888243e+06   2.924049e+06   \n",
       "min    1.000000e+00  0.000000e+00  0.000000e+00   0.000000e+00   \n",
       "25%    1.560000e+02  1.338957e+04  0.000000e+00   0.000000e+00   \n",
       "50%    2.390000e+02  7.487194e+04  1.420800e+04   0.000000e+00   \n",
       "75%    3.350000e+02  2.087215e+05  1.073152e+05   1.442584e+05   \n",
       "max    7.430000e+02  9.244552e+07  5.958504e+07   4.958504e+07   \n",
       "\n",
       "       oldbalanceDest  newbalanceDest       isFraud  isFlaggedFraud  \n",
       "count    6.362620e+06    6.362620e+06  6.362620e+06    6.362620e+06  \n",
       "mean     1.100702e+06    1.224996e+06  1.290820e-03    2.514687e-06  \n",
       "std      3.399180e+06    3.674129e+06  3.590480e-02    1.585775e-03  \n",
       "min      0.000000e+00    0.000000e+00  0.000000e+00    0.000000e+00  \n",
       "25%      0.000000e+00    0.000000e+00  0.000000e+00    0.000000e+00  \n",
       "50%      1.327057e+05    2.146614e+05  0.000000e+00    0.000000e+00  \n",
       "75%      9.430367e+05    1.111909e+06  0.000000e+00    0.000000e+00  \n",
       "max      3.560159e+08    3.561793e+08  1.000000e+00    1.000000e+00  "
      ]
     },
     "execution_count": 7,
     "metadata": {},
     "output_type": "execute_result"
    },
    {
     "data": {
      "text/html": [
       "<div>\n",
       "<style scoped>\n",
       "    .dataframe tbody tr th:only-of-type {\n",
       "        vertical-align: middle;\n",
       "    }\n",
       "\n",
       "    .dataframe tbody tr th {\n",
       "        vertical-align: top;\n",
       "    }\n",
       "\n",
       "    .dataframe thead th {\n",
       "        text-align: right;\n",
       "    }\n",
       "</style>\n",
       "<table border=\"1\" class=\"dataframe\">\n",
       "  <thead>\n",
       "    <tr style=\"text-align: right;\">\n",
       "      <th></th>\n",
       "      <th>step</th>\n",
       "      <th>amount</th>\n",
       "      <th>inti_balence</th>\n",
       "      <th>new_balance_t</th>\n",
       "      <th>oldbalanceDest</th>\n",
       "      <th>newbalanceDest</th>\n",
       "      <th>isFraud</th>\n",
       "      <th>isFlaggedFraud</th>\n",
       "    </tr>\n",
       "  </thead>\n",
       "  <tbody>\n",
       "    <tr>\n",
       "      <th>count</th>\n",
       "      <td>6.362620e+06</td>\n",
       "      <td>6.362620e+06</td>\n",
       "      <td>6.362620e+06</td>\n",
       "      <td>6.362620e+06</td>\n",
       "      <td>6.362620e+06</td>\n",
       "      <td>6.362620e+06</td>\n",
       "      <td>6.362620e+06</td>\n",
       "      <td>6.362620e+06</td>\n",
       "    </tr>\n",
       "    <tr>\n",
       "      <th>mean</th>\n",
       "      <td>2.433972e+02</td>\n",
       "      <td>1.798619e+05</td>\n",
       "      <td>8.338831e+05</td>\n",
       "      <td>8.551137e+05</td>\n",
       "      <td>1.100702e+06</td>\n",
       "      <td>1.224996e+06</td>\n",
       "      <td>1.290820e-03</td>\n",
       "      <td>2.514687e-06</td>\n",
       "    </tr>\n",
       "    <tr>\n",
       "      <th>std</th>\n",
       "      <td>1.423320e+02</td>\n",
       "      <td>6.038582e+05</td>\n",
       "      <td>2.888243e+06</td>\n",
       "      <td>2.924049e+06</td>\n",
       "      <td>3.399180e+06</td>\n",
       "      <td>3.674129e+06</td>\n",
       "      <td>3.590480e-02</td>\n",
       "      <td>1.585775e-03</td>\n",
       "    </tr>\n",
       "    <tr>\n",
       "      <th>min</th>\n",
       "      <td>1.000000e+00</td>\n",
       "      <td>0.000000e+00</td>\n",
       "      <td>0.000000e+00</td>\n",
       "      <td>0.000000e+00</td>\n",
       "      <td>0.000000e+00</td>\n",
       "      <td>0.000000e+00</td>\n",
       "      <td>0.000000e+00</td>\n",
       "      <td>0.000000e+00</td>\n",
       "    </tr>\n",
       "    <tr>\n",
       "      <th>25%</th>\n",
       "      <td>1.560000e+02</td>\n",
       "      <td>1.338957e+04</td>\n",
       "      <td>0.000000e+00</td>\n",
       "      <td>0.000000e+00</td>\n",
       "      <td>0.000000e+00</td>\n",
       "      <td>0.000000e+00</td>\n",
       "      <td>0.000000e+00</td>\n",
       "      <td>0.000000e+00</td>\n",
       "    </tr>\n",
       "    <tr>\n",
       "      <th>50%</th>\n",
       "      <td>2.390000e+02</td>\n",
       "      <td>7.487194e+04</td>\n",
       "      <td>1.420800e+04</td>\n",
       "      <td>0.000000e+00</td>\n",
       "      <td>1.327057e+05</td>\n",
       "      <td>2.146614e+05</td>\n",
       "      <td>0.000000e+00</td>\n",
       "      <td>0.000000e+00</td>\n",
       "    </tr>\n",
       "    <tr>\n",
       "      <th>75%</th>\n",
       "      <td>3.350000e+02</td>\n",
       "      <td>2.087215e+05</td>\n",
       "      <td>1.073152e+05</td>\n",
       "      <td>1.442584e+05</td>\n",
       "      <td>9.430367e+05</td>\n",
       "      <td>1.111909e+06</td>\n",
       "      <td>0.000000e+00</td>\n",
       "      <td>0.000000e+00</td>\n",
       "    </tr>\n",
       "    <tr>\n",
       "      <th>max</th>\n",
       "      <td>7.430000e+02</td>\n",
       "      <td>9.244552e+07</td>\n",
       "      <td>5.958504e+07</td>\n",
       "      <td>4.958504e+07</td>\n",
       "      <td>3.560159e+08</td>\n",
       "      <td>3.561793e+08</td>\n",
       "      <td>1.000000e+00</td>\n",
       "      <td>1.000000e+00</td>\n",
       "    </tr>\n",
       "  </tbody>\n",
       "</table>\n",
       "</div>"
      ],
      "text/plain": [
       "               step        amount  inti_balence  new_balance_t  \\\n",
       "count  6.362620e+06  6.362620e+06  6.362620e+06   6.362620e+06   \n",
       "mean   2.433972e+02  1.798619e+05  8.338831e+05   8.551137e+05   \n",
       "std    1.423320e+02  6.038582e+05  2.888243e+06   2.924049e+06   \n",
       "min    1.000000e+00  0.000000e+00  0.000000e+00   0.000000e+00   \n",
       "25%    1.560000e+02  1.338957e+04  0.000000e+00   0.000000e+00   \n",
       "50%    2.390000e+02  7.487194e+04  1.420800e+04   0.000000e+00   \n",
       "75%    3.350000e+02  2.087215e+05  1.073152e+05   1.442584e+05   \n",
       "max    7.430000e+02  9.244552e+07  5.958504e+07   4.958504e+07   \n",
       "\n",
       "       oldbalanceDest  newbalanceDest       isFraud  isFlaggedFraud  \n",
       "count    6.362620e+06    6.362620e+06  6.362620e+06    6.362620e+06  \n",
       "mean     1.100702e+06    1.224996e+06  1.290820e-03    2.514687e-06  \n",
       "std      3.399180e+06    3.674129e+06  3.590480e-02    1.585775e-03  \n",
       "min      0.000000e+00    0.000000e+00  0.000000e+00    0.000000e+00  \n",
       "25%      0.000000e+00    0.000000e+00  0.000000e+00    0.000000e+00  \n",
       "50%      1.327057e+05    2.146614e+05  0.000000e+00    0.000000e+00  \n",
       "75%      9.430367e+05    1.111909e+06  0.000000e+00    0.000000e+00  \n",
       "max      3.560159e+08    3.561793e+08  1.000000e+00    1.000000e+00  "
      ]
     },
     "execution_count": 7,
     "metadata": {},
     "output_type": "execute_result"
    }
   ],
   "source": [
    "df.describe()"
   ]
  },
  {
   "cell_type": "code",
   "execution_count": null,
   "id": "e1c09941",
   "metadata": {},
   "outputs": [],
   "source": []
  },
  {
   "cell_type": "code",
   "execution_count": 8,
   "id": "5448fe48",
   "metadata": {},
   "outputs": [
    {
     "data": {
      "text/plain": [
       "CASH_OUT    2237500\n",
       "PAYMENT     2151495\n",
       "CASH_IN     1399284\n",
       "TRANSFER     532909\n",
       "DEBIT         41432\n",
       "Name: type, dtype: int64"
      ]
     },
     "execution_count": 8,
     "metadata": {},
     "output_type": "execute_result"
    },
    {
     "data": {
      "text/plain": [
       "CASH_OUT    2237500\n",
       "PAYMENT     2151495\n",
       "CASH_IN     1399284\n",
       "TRANSFER     532909\n",
       "DEBIT         41432\n",
       "Name: type, dtype: int64"
      ]
     },
     "execution_count": 8,
     "metadata": {},
     "output_type": "execute_result"
    }
   ],
   "source": [
    "df.type.value_counts()"
   ]
  },
  {
   "cell_type": "code",
   "execution_count": 9,
   "id": "de7b91d2",
   "metadata": {},
   "outputs": [
    {
     "name": "stdout",
     "output_type": "stream",
     "text": [
      "categorical     continuous\n",
      "--------------  -----------------\n",
      "type            step\n",
      "isFraud         amount\n",
      "isFlaggedFraud  customername\n",
      "                inti_balence\n",
      "                new_balance_t\n",
      "                recipient_custmer\n",
      "                oldbalanceDest\n",
      "                newbalanceDest\n",
      "categorical     continuous\n",
      "--------------  -----------------\n",
      "type            step\n",
      "isFraud         amount\n",
      "isFlaggedFraud  customername\n",
      "                inti_balence\n",
      "                new_balance_t\n",
      "                recipient_custmer\n",
      "                oldbalanceDest\n",
      "                newbalanceDest\n"
     ]
    }
   ],
   "source": [
    "from tabulate import tabulate\n",
    "cat=[]\n",
    "con=[]\n",
    "\n",
    "for i in df.columns:\n",
    "    if df[i].nunique()<50:\n",
    "        cat.append(i)\n",
    "        \n",
    "    else:\n",
    "        con.append(i)\n",
    "\n",
    "print(tabulate({\"Categorical\":cat,\n",
    "                \"Continuous\": con}, headers = [\"categorical\", \"continuous\"]))    "
   ]
  },
  {
   "cell_type": "code",
   "execution_count": 10,
   "id": "bca7d956",
   "metadata": {},
   "outputs": [
    {
     "name": "stderr",
     "output_type": "stream",
     "text": [
      "C:\\Users\\HOME\\anaconda3\\lib\\site-packages\\seaborn\\_decorators.py:36: FutureWarning: Pass the following variable as a keyword arg: x. From version 0.12, the only valid positional argument will be `data`, and passing other arguments without an explicit keyword will result in an error or misinterpretation.\n",
      "  warnings.warn(\n",
      "C:\\Users\\HOME\\anaconda3\\lib\\site-packages\\seaborn\\_decorators.py:36: FutureWarning: Pass the following variable as a keyword arg: x. From version 0.12, the only valid positional argument will be `data`, and passing other arguments without an explicit keyword will result in an error or misinterpretation.\n",
      "  warnings.warn(\n"
     ]
    },
    {
     "data": {
      "image/png": "[encoded data removed]",
      "text/plain": [
       "<Figure size 432x288 with 1 Axes>"
      ]
     },
     "metadata": {
      "needs_background": "light"
     },
     "output_type": "display_data"
    },
    {
     "data": {
      "image/png": "[encoded data removed]",
      "text/plain": [
       "<Figure size 432x288 with 1 Axes>"
      ]
     },
     "metadata": {
      "needs_background": "light"
     },
     "output_type": "display_data"
    }
   ],
   "source": [
    "sns.countplot(df['type']);"
   ]
  },
  {
   "cell_type": "code",
   "execution_count": 11,
   "id": "3586a546",
   "metadata": {},
   "outputs": [
    {
     "name": "stdout",
     "output_type": "stream",
     "text": [
      "step : 743\n",
      "step : 743\n",
      "type : 5\n",
      "type : 5\n",
      "amount : 5316900\n",
      "amount : 5316900\n",
      "customername : 6353307\n",
      "customername : 6353307\n",
      "inti_balence : 1845844\n",
      "inti_balence : 1845844\n",
      "new_balance_t : 2682586\n",
      "new_balance_t : 2682586\n",
      "recipient_custmer : 2722362\n",
      "recipient_custmer : 2722362\n",
      "oldbalanceDest : 3614697\n",
      "oldbalanceDest : 3614697\n",
      "newbalanceDest : 3555499\n",
      "isFraud : 2\n",
      "newbalanceDest : 3555499\n",
      "isFraud : 2\n",
      "isFlaggedFraud : 2\n",
      "isFlaggedFraud : 2\n"
     ]
    }
   ],
   "source": [
    "\n",
    "for i in df.columns:\n",
    "    print(i,':',df[i].nunique())"
   ]
  },
  {
   "cell_type": "code",
   "execution_count": 12,
   "id": "f1229671",
   "metadata": {},
   "outputs": [
    {
     "data": {
      "text/plain": [
       "['type', 'customername', 'recipient_custmer']"
      ]
     },
     "execution_count": 12,
     "metadata": {},
     "output_type": "execute_result"
    },
    {
     "data": {
      "text/plain": [
       "['type', 'customername', 'recipient_custmer']"
      ]
     },
     "execution_count": 12,
     "metadata": {},
     "output_type": "execute_result"
    }
   ],
   "source": [
    "cat_col =[]\n",
    "for x in df.dtypes.index:\n",
    "    if df.dtypes[x]=='object':\n",
    "        cat_col.append(x)\n",
    "cat_col"
   ]
  },
  {
   "cell_type": "code",
   "execution_count": null,
   "id": "653c6b00",
   "metadata": {},
   "outputs": [],
   "source": []
  },
  {
   "cell_type": "code",
   "execution_count": null,
   "id": "88683351",
   "metadata": {},
   "outputs": [],
   "source": []
  },
  {
   "cell_type": "code",
   "execution_count": null,
   "id": "374cef5c",
   "metadata": {},
   "outputs": [],
   "source": []
  },
  {
   "cell_type": "code",
   "execution_count": null,
   "id": "755d3fcf",
   "metadata": {},
   "outputs": [],
   "source": []
  },
  {
   "cell_type": "code",
   "execution_count": null,
   "id": "b7079af4",
   "metadata": {},
   "outputs": [],
   "source": []
  },
  {
   "cell_type": "code",
   "execution_count": null,
   "id": "ddaa4d87",
   "metadata": {},
   "outputs": [],
   "source": []
  },
  {
   "cell_type": "code",
   "execution_count": null,
   "id": "98b812ed",
   "metadata": {},
   "outputs": [],
   "source": []
  },
  {
   "cell_type": "code",
   "execution_count": 13,
   "id": "77310e22",
   "metadata": {},
   "outputs": [
    {
     "name": "stdout",
     "output_type": "stream",
     "text": [
      "<class 'pandas.core.frame.DataFrame'>\n",
      "RangeIndex: 6362620 entries, 0 to 6362619\n",
      "Data columns (total 11 columns):\n",
      " #   Column             Dtype  \n",
      "---  ------             -----  \n",
      " 0   step               int64  \n",
      " 1   type               object \n",
      " 2   amount             float64\n",
      " 3   customername       object \n",
      " 4   inti_balence       float64\n",
      " 5   new_balance_t      float64\n",
      " 6   recipient_custmer  object \n",
      " 7   oldbalanceDest     float64\n",
      " 8   newbalanceDest     float64\n",
      " 9   isFraud            int64  \n",
      " 10  isFlaggedFraud     int64  \n",
      "dtypes: float64(5), int64(3), object(3)\n",
      "memory usage: 534.0+ MB\n",
      "<class 'pandas.core.frame.DataFrame'>\n",
      "RangeIndex: 6362620 entries, 0 to 6362619\n",
      "Data columns (total 11 columns):\n",
      " #   Column             Dtype  \n",
      "---  ------             -----  \n",
      " 0   step               int64  \n",
      " 1   type               object \n",
      " 2   amount             float64\n",
      " 3   customername       object \n",
      " 4   inti_balence       float64\n",
      " 5   new_balance_t      float64\n",
      " 6   recipient_custmer  object \n",
      " 7   oldbalanceDest     float64\n",
      " 8   newbalanceDest     float64\n",
      " 9   isFraud            int64  \n",
      " 10  isFlaggedFraud     int64  \n",
      "dtypes: float64(5), int64(3), object(3)\n",
      "memory usage: 534.0+ MB\n"
     ]
    }
   ],
   "source": [
    "df.info()"
   ]
  },
  {
   "cell_type": "code",
   "execution_count": 14,
   "id": "b0506bca",
   "metadata": {},
   "outputs": [],
   "source": [
    "from sklearn.preprocessing import LabelEncoder"
   ]
  },
  {
   "cell_type": "code",
   "execution_count": 15,
   "id": "0658714c",
   "metadata": {},
   "outputs": [],
   "source": [
    "label=LabelEncoder()"
   ]
  },
  {
   "cell_type": "code",
   "execution_count": 16,
   "id": "4d89539a",
   "metadata": {},
   "outputs": [
    {
     "data": {
      "text/html": [
       "<div>\n",
       "<style scoped>\n",
       "    .dataframe tbody tr th:only-of-type {\n",
       "        vertical-align: middle;\n",
       "    }\n",
       "\n",
       "    .dataframe tbody tr th {\n",
       "        vertical-align: top;\n",
       "    }\n",
       "\n",
       "    .dataframe thead th {\n",
       "        text-align: right;\n",
       "    }\n",
       "</style>\n",
       "<table border=\"1\" class=\"dataframe\">\n",
       "  <thead>\n",
       "    <tr style=\"text-align: right;\">\n",
       "      <th></th>\n",
       "      <th>step</th>\n",
       "      <th>type</th>\n",
       "      <th>amount</th>\n",
       "      <th>customername</th>\n",
       "      <th>inti_balence</th>\n",
       "      <th>new_balance_t</th>\n",
       "      <th>recipient_custmer</th>\n",
       "      <th>oldbalanceDest</th>\n",
       "      <th>newbalanceDest</th>\n",
       "      <th>isFraud</th>\n",
       "      <th>isFlaggedFraud</th>\n",
       "    </tr>\n",
       "  </thead>\n",
       "  <tbody>\n",
       "    <tr>\n",
       "      <th>0</th>\n",
       "      <td>1</td>\n",
       "      <td>3</td>\n",
       "      <td>710400</td>\n",
       "      <td>C1231006815</td>\n",
       "      <td>587897</td>\n",
       "      <td>1157557</td>\n",
       "      <td>1662094</td>\n",
       "      <td>0</td>\n",
       "      <td>0</td>\n",
       "      <td>0</td>\n",
       "      <td>0</td>\n",
       "    </tr>\n",
       "    <tr>\n",
       "      <th>1</th>\n",
       "      <td>1</td>\n",
       "      <td>3</td>\n",
       "      <td>141767</td>\n",
       "      <td>C1666544295</td>\n",
       "      <td>140919</td>\n",
       "      <td>336044</td>\n",
       "      <td>1733924</td>\n",
       "      <td>0</td>\n",
       "      <td>0</td>\n",
       "      <td>0</td>\n",
       "      <td>0</td>\n",
       "    </tr>\n",
       "    <tr>\n",
       "      <th>2</th>\n",
       "      <td>1</td>\n",
       "      <td>4</td>\n",
       "      <td>13666</td>\n",
       "      <td>C1305486145</td>\n",
       "      <td>1672</td>\n",
       "      <td>0</td>\n",
       "      <td>439685</td>\n",
       "      <td>0</td>\n",
       "      <td>0</td>\n",
       "      <td>1</td>\n",
       "      <td>0</td>\n",
       "    </tr>\n",
       "    <tr>\n",
       "      <th>3</th>\n",
       "      <td>1</td>\n",
       "      <td>1</td>\n",
       "      <td>13666</td>\n",
       "      <td>C840083671</td>\n",
       "      <td>1672</td>\n",
       "      <td>0</td>\n",
       "      <td>391696</td>\n",
       "      <td>82843</td>\n",
       "      <td>0</td>\n",
       "      <td>1</td>\n",
       "      <td>0</td>\n",
       "    </tr>\n",
       "    <tr>\n",
       "      <th>4</th>\n",
       "      <td>1</td>\n",
       "      <td>3</td>\n",
       "      <td>822964</td>\n",
       "      <td>C2048537720</td>\n",
       "      <td>230032</td>\n",
       "      <td>456430</td>\n",
       "      <td>828919</td>\n",
       "      <td>0</td>\n",
       "      <td>0</td>\n",
       "      <td>0</td>\n",
       "      <td>0</td>\n",
       "    </tr>\n",
       "  </tbody>\n",
       "</table>\n",
       "</div>"
      ],
      "text/plain": [
       "   step  type  amount customername  inti_balence  new_balance_t  \\\n",
       "0     1     3  710400  C1231006815        587897        1157557   \n",
       "1     1     3  141767  C1666544295        140919         336044   \n",
       "2     1     4   13666  C1305486145          1672              0   \n",
       "3     1     1   13666   C840083671          1672              0   \n",
       "4     1     3  822964  C2048537720        230032         456430   \n",
       "\n",
       "   recipient_custmer  oldbalanceDest  newbalanceDest  isFraud  isFlaggedFraud  \n",
       "0            1662094               0               0        0               0  \n",
       "1            1733924               0               0        0               0  \n",
       "2             439685               0               0        1               0  \n",
       "3             391696           82843               0        1               0  \n",
       "4             828919               0               0        0               0  "
      ]
     },
     "execution_count": 16,
     "metadata": {},
     "output_type": "execute_result"
    },
    {
     "data": {
      "text/html": [
       "<div>\n",
       "<style scoped>\n",
       "    .dataframe tbody tr th:only-of-type {\n",
       "        vertical-align: middle;\n",
       "    }\n",
       "\n",
       "    .dataframe tbody tr th {\n",
       "        vertical-align: top;\n",
       "    }\n",
       "\n",
       "    .dataframe thead th {\n",
       "        text-align: right;\n",
       "    }\n",
       "</style>\n",
       "<table border=\"1\" class=\"dataframe\">\n",
       "  <thead>\n",
       "    <tr style=\"text-align: right;\">\n",
       "      <th></th>\n",
       "      <th>step</th>\n",
       "      <th>type</th>\n",
       "      <th>amount</th>\n",
       "      <th>customername</th>\n",
       "      <th>inti_balence</th>\n",
       "      <th>new_balance_t</th>\n",
       "      <th>recipient_custmer</th>\n",
       "      <th>oldbalanceDest</th>\n",
       "      <th>newbalanceDest</th>\n",
       "      <th>isFraud</th>\n",
       "      <th>isFlaggedFraud</th>\n",
       "    </tr>\n",
       "  </thead>\n",
       "  <tbody>\n",
       "    <tr>\n",
       "      <th>0</th>\n",
       "      <td>1</td>\n",
       "      <td>3</td>\n",
       "      <td>710400</td>\n",
       "      <td>C1231006815</td>\n",
       "      <td>587897</td>\n",
       "      <td>1157557</td>\n",
       "      <td>1662094</td>\n",
       "      <td>0</td>\n",
       "      <td>0</td>\n",
       "      <td>0</td>\n",
       "      <td>0</td>\n",
       "    </tr>\n",
       "    <tr>\n",
       "      <th>1</th>\n",
       "      <td>1</td>\n",
       "      <td>3</td>\n",
       "      <td>141767</td>\n",
       "      <td>C1666544295</td>\n",
       "      <td>140919</td>\n",
       "      <td>336044</td>\n",
       "      <td>1733924</td>\n",
       "      <td>0</td>\n",
       "      <td>0</td>\n",
       "      <td>0</td>\n",
       "      <td>0</td>\n",
       "    </tr>\n",
       "    <tr>\n",
       "      <th>2</th>\n",
       "      <td>1</td>\n",
       "      <td>4</td>\n",
       "      <td>13666</td>\n",
       "      <td>C1305486145</td>\n",
       "      <td>1672</td>\n",
       "      <td>0</td>\n",
       "      <td>439685</td>\n",
       "      <td>0</td>\n",
       "      <td>0</td>\n",
       "      <td>1</td>\n",
       "      <td>0</td>\n",
       "    </tr>\n",
       "    <tr>\n",
       "      <th>3</th>\n",
       "      <td>1</td>\n",
       "      <td>1</td>\n",
       "      <td>13666</td>\n",
       "      <td>C840083671</td>\n",
       "      <td>1672</td>\n",
       "      <td>0</td>\n",
       "      <td>391696</td>\n",
       "      <td>82843</td>\n",
       "      <td>0</td>\n",
       "      <td>1</td>\n",
       "      <td>0</td>\n",
       "    </tr>\n",
       "    <tr>\n",
       "      <th>4</th>\n",
       "      <td>1</td>\n",
       "      <td>3</td>\n",
       "      <td>822964</td>\n",
       "      <td>C2048537720</td>\n",
       "      <td>230032</td>\n",
       "      <td>456430</td>\n",
       "      <td>828919</td>\n",
       "      <td>0</td>\n",
       "      <td>0</td>\n",
       "      <td>0</td>\n",
       "      <td>0</td>\n",
       "    </tr>\n",
       "  </tbody>\n",
       "</table>\n",
       "</div>"
      ],
      "text/plain": [
       "   step  type  amount customername  inti_balence  new_balance_t  \\\n",
       "0     1     3  710400  C1231006815        587897        1157557   \n",
       "1     1     3  141767  C1666544295        140919         336044   \n",
       "2     1     4   13666  C1305486145          1672              0   \n",
       "3     1     1   13666   C840083671          1672              0   \n",
       "4     1     3  822964  C2048537720        230032         456430   \n",
       "\n",
       "   recipient_custmer  oldbalanceDest  newbalanceDest  isFraud  isFlaggedFraud  \n",
       "0            1662094               0               0        0               0  \n",
       "1            1733924               0               0        0               0  \n",
       "2             439685               0               0        1               0  \n",
       "3             391696           82843               0        1               0  \n",
       "4             828919               0               0        0               0  "
      ]
     },
     "execution_count": 16,
     "metadata": {},
     "output_type": "execute_result"
    }
   ],
   "source": [
    "df['amount']=label.fit_transform(df['amount'])\n",
    "df['inti_balence']=label.fit_transform(df['inti_balence'])\n",
    "df['new_balance_t']=label.fit_transform(df['new_balance_t'])\n",
    "df['recipient_custmer']=label.fit_transform(df['recipient_custmer'])\n",
    "df['oldbalanceDest']=label.fit_transform(df['oldbalanceDest'])\n",
    "df['newbalanceDest']=label.fit_transform(df['newbalanceDest'])\n",
    "df['type']=label.fit_transform(df['type'])\n",
    "df.head()"
   ]
  },
  {
   "cell_type": "code",
   "execution_count": 17,
   "id": "25a6fa31",
   "metadata": {},
   "outputs": [
    {
     "data": {
      "text/html": [
       "<div>\n",
       "<style scoped>\n",
       "    .dataframe tbody tr th:only-of-type {\n",
       "        vertical-align: middle;\n",
       "    }\n",
       "\n",
       "    .dataframe tbody tr th {\n",
       "        vertical-align: top;\n",
       "    }\n",
       "\n",
       "    .dataframe thead th {\n",
       "        text-align: right;\n",
       "    }\n",
       "</style>\n",
       "<table border=\"1\" class=\"dataframe\">\n",
       "  <thead>\n",
       "    <tr style=\"text-align: right;\">\n",
       "      <th></th>\n",
       "      <th>step</th>\n",
       "      <th>type</th>\n",
       "      <th>amount</th>\n",
       "      <th>inti_balence</th>\n",
       "      <th>new_balance_t</th>\n",
       "      <th>recipient_custmer</th>\n",
       "      <th>oldbalanceDest</th>\n",
       "      <th>newbalanceDest</th>\n",
       "      <th>isFraud</th>\n",
       "      <th>isFlaggedFraud</th>\n",
       "    </tr>\n",
       "    <tr>\n",
       "      <th>customername</th>\n",
       "      <th></th>\n",
       "      <th></th>\n",
       "      <th></th>\n",
       "      <th></th>\n",
       "      <th></th>\n",
       "      <th></th>\n",
       "      <th></th>\n",
       "      <th></th>\n",
       "      <th></th>\n",
       "      <th></th>\n",
       "    </tr>\n",
       "  </thead>\n",
       "  <tbody>\n",
       "    <tr>\n",
       "      <th>C1231006815</th>\n",
       "      <td>1</td>\n",
       "      <td>3</td>\n",
       "      <td>710400</td>\n",
       "      <td>587897</td>\n",
       "      <td>1157557</td>\n",
       "      <td>1662094</td>\n",
       "      <td>0</td>\n",
       "      <td>0</td>\n",
       "      <td>0</td>\n",
       "      <td>0</td>\n",
       "    </tr>\n",
       "    <tr>\n",
       "      <th>C1666544295</th>\n",
       "      <td>1</td>\n",
       "      <td>3</td>\n",
       "      <td>141767</td>\n",
       "      <td>140919</td>\n",
       "      <td>336044</td>\n",
       "      <td>1733924</td>\n",
       "      <td>0</td>\n",
       "      <td>0</td>\n",
       "      <td>0</td>\n",
       "      <td>0</td>\n",
       "    </tr>\n",
       "    <tr>\n",
       "      <th>C1305486145</th>\n",
       "      <td>1</td>\n",
       "      <td>4</td>\n",
       "      <td>13666</td>\n",
       "      <td>1672</td>\n",
       "      <td>0</td>\n",
       "      <td>439685</td>\n",
       "      <td>0</td>\n",
       "      <td>0</td>\n",
       "      <td>1</td>\n",
       "      <td>0</td>\n",
       "    </tr>\n",
       "    <tr>\n",
       "      <th>C840083671</th>\n",
       "      <td>1</td>\n",
       "      <td>1</td>\n",
       "      <td>13666</td>\n",
       "      <td>1672</td>\n",
       "      <td>0</td>\n",
       "      <td>391696</td>\n",
       "      <td>82843</td>\n",
       "      <td>0</td>\n",
       "      <td>1</td>\n",
       "      <td>0</td>\n",
       "    </tr>\n",
       "    <tr>\n",
       "      <th>C2048537720</th>\n",
       "      <td>1</td>\n",
       "      <td>3</td>\n",
       "      <td>822964</td>\n",
       "      <td>230032</td>\n",
       "      <td>456430</td>\n",
       "      <td>828919</td>\n",
       "      <td>0</td>\n",
       "      <td>0</td>\n",
       "      <td>0</td>\n",
       "      <td>0</td>\n",
       "    </tr>\n",
       "  </tbody>\n",
       "</table>\n",
       "</div>"
      ],
      "text/plain": [
       "              step  type  amount  inti_balence  new_balance_t  \\\n",
       "customername                                                    \n",
       "C1231006815      1     3  710400        587897        1157557   \n",
       "C1666544295      1     3  141767        140919         336044   \n",
       "C1305486145      1     4   13666          1672              0   \n",
       "C840083671       1     1   13666          1672              0   \n",
       "C2048537720      1     3  822964        230032         456430   \n",
       "\n",
       "              recipient_custmer  oldbalanceDest  newbalanceDest  isFraud  \\\n",
       "customername                                                               \n",
       "C1231006815             1662094               0               0        0   \n",
       "C1666544295             1733924               0               0        0   \n",
       "C1305486145              439685               0               0        1   \n",
       "C840083671               391696           82843               0        1   \n",
       "C2048537720              828919               0               0        0   \n",
       "\n",
       "              isFlaggedFraud  \n",
       "customername                  \n",
       "C1231006815                0  \n",
       "C1666544295                0  \n",
       "C1305486145                0  \n",
       "C840083671                 0  \n",
       "C2048537720                0  "
      ]
     },
     "execution_count": 17,
     "metadata": {},
     "output_type": "execute_result"
    },
    {
     "data": {
      "text/html": [
       "<div>\n",
       "<style scoped>\n",
       "    .dataframe tbody tr th:only-of-type {\n",
       "        vertical-align: middle;\n",
       "    }\n",
       "\n",
       "    .dataframe tbody tr th {\n",
       "        vertical-align: top;\n",
       "    }\n",
       "\n",
       "    .dataframe thead th {\n",
       "        text-align: right;\n",
       "    }\n",
       "</style>\n",
       "<table border=\"1\" class=\"dataframe\">\n",
       "  <thead>\n",
       "    <tr style=\"text-align: right;\">\n",
       "      <th></th>\n",
       "      <th>step</th>\n",
       "      <th>type</th>\n",
       "      <th>amount</th>\n",
       "      <th>inti_balence</th>\n",
       "      <th>new_balance_t</th>\n",
       "      <th>recipient_custmer</th>\n",
       "      <th>oldbalanceDest</th>\n",
       "      <th>newbalanceDest</th>\n",
       "      <th>isFraud</th>\n",
       "      <th>isFlaggedFraud</th>\n",
       "    </tr>\n",
       "    <tr>\n",
       "      <th>customername</th>\n",
       "      <th></th>\n",
       "      <th></th>\n",
       "      <th></th>\n",
       "      <th></th>\n",
       "      <th></th>\n",
       "      <th></th>\n",
       "      <th></th>\n",
       "      <th></th>\n",
       "      <th></th>\n",
       "      <th></th>\n",
       "    </tr>\n",
       "  </thead>\n",
       "  <tbody>\n",
       "    <tr>\n",
       "      <th>C1231006815</th>\n",
       "      <td>1</td>\n",
       "      <td>3</td>\n",
       "      <td>710400</td>\n",
       "      <td>587897</td>\n",
       "      <td>1157557</td>\n",
       "      <td>1662094</td>\n",
       "      <td>0</td>\n",
       "      <td>0</td>\n",
       "      <td>0</td>\n",
       "      <td>0</td>\n",
       "    </tr>\n",
       "    <tr>\n",
       "      <th>C1666544295</th>\n",
       "      <td>1</td>\n",
       "      <td>3</td>\n",
       "      <td>141767</td>\n",
       "      <td>140919</td>\n",
       "      <td>336044</td>\n",
       "      <td>1733924</td>\n",
       "      <td>0</td>\n",
       "      <td>0</td>\n",
       "      <td>0</td>\n",
       "      <td>0</td>\n",
       "    </tr>\n",
       "    <tr>\n",
       "      <th>C1305486145</th>\n",
       "      <td>1</td>\n",
       "      <td>4</td>\n",
       "      <td>13666</td>\n",
       "      <td>1672</td>\n",
       "      <td>0</td>\n",
       "      <td>439685</td>\n",
       "      <td>0</td>\n",
       "      <td>0</td>\n",
       "      <td>1</td>\n",
       "      <td>0</td>\n",
       "    </tr>\n",
       "    <tr>\n",
       "      <th>C840083671</th>\n",
       "      <td>1</td>\n",
       "      <td>1</td>\n",
       "      <td>13666</td>\n",
       "      <td>1672</td>\n",
       "      <td>0</td>\n",
       "      <td>391696</td>\n",
       "      <td>82843</td>\n",
       "      <td>0</td>\n",
       "      <td>1</td>\n",
       "      <td>0</td>\n",
       "    </tr>\n",
       "    <tr>\n",
       "      <th>C2048537720</th>\n",
       "      <td>1</td>\n",
       "      <td>3</td>\n",
       "      <td>822964</td>\n",
       "      <td>230032</td>\n",
       "      <td>456430</td>\n",
       "      <td>828919</td>\n",
       "      <td>0</td>\n",
       "      <td>0</td>\n",
       "      <td>0</td>\n",
       "      <td>0</td>\n",
       "    </tr>\n",
       "  </tbody>\n",
       "</table>\n",
       "</div>"
      ],
      "text/plain": [
       "              step  type  amount  inti_balence  new_balance_t  \\\n",
       "customername                                                    \n",
       "C1231006815      1     3  710400        587897        1157557   \n",
       "C1666544295      1     3  141767        140919         336044   \n",
       "C1305486145      1     4   13666          1672              0   \n",
       "C840083671       1     1   13666          1672              0   \n",
       "C2048537720      1     3  822964        230032         456430   \n",
       "\n",
       "              recipient_custmer  oldbalanceDest  newbalanceDest  isFraud  \\\n",
       "customername                                                               \n",
       "C1231006815             1662094               0               0        0   \n",
       "C1666544295             1733924               0               0        0   \n",
       "C1305486145              439685               0               0        1   \n",
       "C840083671               391696           82843               0        1   \n",
       "C2048537720              828919               0               0        0   \n",
       "\n",
       "              isFlaggedFraud  \n",
       "customername                  \n",
       "C1231006815                0  \n",
       "C1666544295                0  \n",
       "C1305486145                0  \n",
       "C840083671                 0  \n",
       "C2048537720                0  "
      ]
     },
     "execution_count": 17,
     "metadata": {},
     "output_type": "execute_result"
    }
   ],
   "source": [
    "df=df.set_index('customername')\n",
    "df.head()"
   ]
  },
  {
   "cell_type": "code",
   "execution_count": 18,
   "id": "5bb619b0",
   "metadata": {},
   "outputs": [
    {
     "data": {
      "text/plain": [
       "(6362620, 10)"
      ]
     },
     "execution_count": 18,
     "metadata": {},
     "output_type": "execute_result"
    },
    {
     "data": {
      "text/plain": [
       "(6362620, 10)"
      ]
     },
     "execution_count": 18,
     "metadata": {},
     "output_type": "execute_result"
    }
   ],
   "source": [
    "df.shape"
   ]
  },
  {
   "cell_type": "code",
   "execution_count": 19,
   "id": "a41ed088",
   "metadata": {},
   "outputs": [],
   "source": [
    "x=df.drop(columns=\"amount\")\n",
    "y=df[\"amount\"]"
   ]
  },
  {
   "cell_type": "code",
   "execution_count": 20,
   "id": "cd704944",
   "metadata": {},
   "outputs": [
    {
     "data": {
      "image/png": "[encoded data removed]",
      "text/plain": [
       "<Figure size 864x576 with 2 Axes>"
      ]
     },
     "metadata": {
      "needs_background": "light"
     },
     "output_type": "display_data"
    },
    {
     "data": {
      "image/png": "[encoded data removed]",
      "text/plain": [
       "<Figure size 864x576 with 2 Axes>"
      ]
     },
     "metadata": {
      "needs_background": "light"
     },
     "output_type": "display_data"
    }
   ],
   "source": [
    "# Let's see the correlation between different variables.\n",
    "plt.figure(figsize=(12, 8))\n",
    "sns.heatmap(df.corr(), cmap=\"YlGnBu\", annot = True)\n",
    "plt.show()"
   ]
  },
  {
   "cell_type": "code",
   "execution_count": 21,
   "id": "4fcc5289",
   "metadata": {},
   "outputs": [],
   "source": [
    "from sklearn.preprocessing import StandardScaler"
   ]
  },
  {
   "cell_type": "code",
   "execution_count": 22,
   "id": "ebc0a4f7",
   "metadata": {},
   "outputs": [],
   "source": [
    "scale=StandardScaler()"
   ]
  },
  {
   "cell_type": "code",
   "execution_count": 23,
   "id": "85baccac",
   "metadata": {},
   "outputs": [],
   "source": [
    "df['type']=label.fit_transform(df['type'])"
   ]
  },
  {
   "cell_type": "code",
   "execution_count": 24,
   "id": "d2dc7460",
   "metadata": {},
   "outputs": [
    {
     "data": {
      "text/html": [
       "<div>\n",
       "<style scoped>\n",
       "    .dataframe tbody tr th:only-of-type {\n",
       "        vertical-align: middle;\n",
       "    }\n",
       "\n",
       "    .dataframe tbody tr th {\n",
       "        vertical-align: top;\n",
       "    }\n",
       "\n",
       "    .dataframe thead th {\n",
       "        text-align: right;\n",
       "    }\n",
       "</style>\n",
       "<table border=\"1\" class=\"dataframe\">\n",
       "  <thead>\n",
       "    <tr style=\"text-align: right;\">\n",
       "      <th></th>\n",
       "      <th>step</th>\n",
       "      <th>type</th>\n",
       "      <th>inti_balence</th>\n",
       "      <th>new_balance_t</th>\n",
       "      <th>recipient_custmer</th>\n",
       "      <th>oldbalanceDest</th>\n",
       "      <th>newbalanceDest</th>\n",
       "      <th>isFraud</th>\n",
       "      <th>isFlaggedFraud</th>\n",
       "    </tr>\n",
       "  </thead>\n",
       "  <tbody>\n",
       "    <tr>\n",
       "      <th>0</th>\n",
       "      <td>-1.703042</td>\n",
       "      <td>0.952399</td>\n",
       "      <td>0.514965</td>\n",
       "      <td>0.705988</td>\n",
       "      <td>1.220490</td>\n",
       "      <td>-0.866569</td>\n",
       "      <td>-0.933318</td>\n",
       "      <td>-0.035951</td>\n",
       "      <td>-0.001586</td>\n",
       "    </tr>\n",
       "    <tr>\n",
       "      <th>1</th>\n",
       "      <td>-1.703042</td>\n",
       "      <td>0.952399</td>\n",
       "      <td>-0.396568</td>\n",
       "      <td>-0.282878</td>\n",
       "      <td>1.316232</td>\n",
       "      <td>-0.866569</td>\n",
       "      <td>-0.933318</td>\n",
       "      <td>-0.035951</td>\n",
       "      <td>-0.001586</td>\n",
       "    </tr>\n",
       "    <tr>\n",
       "      <th>2</th>\n",
       "      <td>-1.703042</td>\n",
       "      <td>1.693076</td>\n",
       "      <td>-0.680537</td>\n",
       "      <td>-0.687379</td>\n",
       "      <td>-0.408856</td>\n",
       "      <td>-0.866569</td>\n",
       "      <td>-0.933318</td>\n",
       "      <td>27.815483</td>\n",
       "      <td>-0.001586</td>\n",
       "    </tr>\n",
       "    <tr>\n",
       "      <th>3</th>\n",
       "      <td>-1.703042</td>\n",
       "      <td>-0.528954</td>\n",
       "      <td>-0.680537</td>\n",
       "      <td>-0.687379</td>\n",
       "      <td>-0.472820</td>\n",
       "      <td>-0.797004</td>\n",
       "      <td>-0.933318</td>\n",
       "      <td>27.815483</td>\n",
       "      <td>-0.001586</td>\n",
       "    </tr>\n",
       "    <tr>\n",
       "      <th>4</th>\n",
       "      <td>-1.703042</td>\n",
       "      <td>0.952399</td>\n",
       "      <td>-0.214838</td>\n",
       "      <td>-0.137968</td>\n",
       "      <td>0.109953</td>\n",
       "      <td>-0.866569</td>\n",
       "      <td>-0.933318</td>\n",
       "      <td>-0.035951</td>\n",
       "      <td>-0.001586</td>\n",
       "    </tr>\n",
       "  </tbody>\n",
       "</table>\n",
       "</div>"
      ],
      "text/plain": [
       "       step      type  inti_balence  new_balance_t  recipient_custmer  \\\n",
       "0 -1.703042  0.952399      0.514965       0.705988           1.220490   \n",
       "1 -1.703042  0.952399     -0.396568      -0.282878           1.316232   \n",
       "2 -1.703042  1.693076     -0.680537      -0.687379          -0.408856   \n",
       "3 -1.703042 -0.528954     -0.680537      -0.687379          -0.472820   \n",
       "4 -1.703042  0.952399     -0.214838      -0.137968           0.109953   \n",
       "\n",
       "   oldbalanceDest  newbalanceDest    isFraud  isFlaggedFraud  \n",
       "0       -0.866569       -0.933318  -0.035951       -0.001586  \n",
       "1       -0.866569       -0.933318  -0.035951       -0.001586  \n",
       "2       -0.866569       -0.933318  27.815483       -0.001586  \n",
       "3       -0.797004       -0.933318  27.815483       -0.001586  \n",
       "4       -0.866569       -0.933318  -0.035951       -0.001586  "
      ]
     },
     "execution_count": 24,
     "metadata": {},
     "output_type": "execute_result"
    },
    {
     "data": {
      "text/html": [
       "<div>\n",
       "<style scoped>\n",
       "    .dataframe tbody tr th:only-of-type {\n",
       "        vertical-align: middle;\n",
       "    }\n",
       "\n",
       "    .dataframe tbody tr th {\n",
       "        vertical-align: top;\n",
       "    }\n",
       "\n",
       "    .dataframe thead th {\n",
       "        text-align: right;\n",
       "    }\n",
       "</style>\n",
       "<table border=\"1\" class=\"dataframe\">\n",
       "  <thead>\n",
       "    <tr style=\"text-align: right;\">\n",
       "      <th></th>\n",
       "      <th>step</th>\n",
       "      <th>type</th>\n",
       "      <th>inti_balence</th>\n",
       "      <th>new_balance_t</th>\n",
       "      <th>recipient_custmer</th>\n",
       "      <th>oldbalanceDest</th>\n",
       "      <th>newbalanceDest</th>\n",
       "      <th>isFraud</th>\n",
       "      <th>isFlaggedFraud</th>\n",
       "    </tr>\n",
       "  </thead>\n",
       "  <tbody>\n",
       "    <tr>\n",
       "      <th>0</th>\n",
       "      <td>-1.703042</td>\n",
       "      <td>0.952399</td>\n",
       "      <td>0.514965</td>\n",
       "      <td>0.705988</td>\n",
       "      <td>1.220490</td>\n",
       "      <td>-0.866569</td>\n",
       "      <td>-0.933318</td>\n",
       "      <td>-0.035951</td>\n",
       "      <td>-0.001586</td>\n",
       "    </tr>\n",
       "    <tr>\n",
       "      <th>1</th>\n",
       "      <td>-1.703042</td>\n",
       "      <td>0.952399</td>\n",
       "      <td>-0.396568</td>\n",
       "      <td>-0.282878</td>\n",
       "      <td>1.316232</td>\n",
       "      <td>-0.866569</td>\n",
       "      <td>-0.933318</td>\n",
       "      <td>-0.035951</td>\n",
       "      <td>-0.001586</td>\n",
       "    </tr>\n",
       "    <tr>\n",
       "      <th>2</th>\n",
       "      <td>-1.703042</td>\n",
       "      <td>1.693076</td>\n",
       "      <td>-0.680537</td>\n",
       "      <td>-0.687379</td>\n",
       "      <td>-0.408856</td>\n",
       "      <td>-0.866569</td>\n",
       "      <td>-0.933318</td>\n",
       "      <td>27.815483</td>\n",
       "      <td>-0.001586</td>\n",
       "    </tr>\n",
       "    <tr>\n",
       "      <th>3</th>\n",
       "      <td>-1.703042</td>\n",
       "      <td>-0.528954</td>\n",
       "      <td>-0.680537</td>\n",
       "      <td>-0.687379</td>\n",
       "      <td>-0.472820</td>\n",
       "      <td>-0.797004</td>\n",
       "      <td>-0.933318</td>\n",
       "      <td>27.815483</td>\n",
       "      <td>-0.001586</td>\n",
       "    </tr>\n",
       "    <tr>\n",
       "      <th>4</th>\n",
       "      <td>-1.703042</td>\n",
       "      <td>0.952399</td>\n",
       "      <td>-0.214838</td>\n",
       "      <td>-0.137968</td>\n",
       "      <td>0.109953</td>\n",
       "      <td>-0.866569</td>\n",
       "      <td>-0.933318</td>\n",
       "      <td>-0.035951</td>\n",
       "      <td>-0.001586</td>\n",
       "    </tr>\n",
       "  </tbody>\n",
       "</table>\n",
       "</div>"
      ],
      "text/plain": [
       "       step      type  inti_balence  new_balance_t  recipient_custmer  \\\n",
       "0 -1.703042  0.952399      0.514965       0.705988           1.220490   \n",
       "1 -1.703042  0.952399     -0.396568      -0.282878           1.316232   \n",
       "2 -1.703042  1.693076     -0.680537      -0.687379          -0.408856   \n",
       "3 -1.703042 -0.528954     -0.680537      -0.687379          -0.472820   \n",
       "4 -1.703042  0.952399     -0.214838      -0.137968           0.109953   \n",
       "\n",
       "   oldbalanceDest  newbalanceDest    isFraud  isFlaggedFraud  \n",
       "0       -0.866569       -0.933318  -0.035951       -0.001586  \n",
       "1       -0.866569       -0.933318  -0.035951       -0.001586  \n",
       "2       -0.866569       -0.933318  27.815483       -0.001586  \n",
       "3       -0.797004       -0.933318  27.815483       -0.001586  \n",
       "4       -0.866569       -0.933318  -0.035951       -0.001586  "
      ]
     },
     "execution_count": 24,
     "metadata": {},
     "output_type": "execute_result"
    }
   ],
   "source": [
    "x1=x.copy()\n",
    "x2=scale.fit_transform(x1)\n",
    "x=pd.DataFrame(x2,columns=x1.columns)\n",
    "x.head()"
   ]
  },
  {
   "cell_type": "code",
   "execution_count": 25,
   "id": "9b2accc4",
   "metadata": {},
   "outputs": [],
   "source": [
    "names=[]\n",
    "result=[]"
   ]
  },
  {
   "cell_type": "code",
   "execution_count": 26,
   "id": "9271eb08",
   "metadata": {},
   "outputs": [],
   "source": [
    "from sklearn.metrics import mean_absolute_error,mean_squared_error\n",
    "\n",
    "from sklearn import preprocessing\n",
    "from sklearn.preprocessing import MinMaxScaler, StandardScaler\n",
    "from sklearn.model_selection import train_test_split\n",
    "import numpy as np"
   ]
  },
  {
   "cell_type": "code",
   "execution_count": 27,
   "id": "cdaac81f",
   "metadata": {},
   "outputs": [],
   "source": [
    "def error(x,y):\n",
    "    print('ERRORS')\n",
    "    print('MAE is :',mean_absolute_error(x,y))\n",
    "    print('MSE is :',mean_squared_error(x,y))\n",
    "    rmse=np.sqrt(mean_squared_error(x,y))\n",
    "    print('RMSE is :',rmse)"
   ]
  },
  {
   "cell_type": "code",
   "execution_count": 28,
   "id": "ac518bd5",
   "metadata": {},
   "outputs": [],
   "source": [
    "from sklearn.model_selection import train_test_split\n",
    "from sklearn.linear_model import LinearRegression\n",
    "from sklearn import preprocessing\n",
    "from sklearn.preprocessing import MinMaxScaler, StandardScaler\n",
    "from sklearn.model_selection import train_test_split"
   ]
  },
  {
   "cell_type": "code",
   "execution_count": null,
   "id": "2d62bdff",
   "metadata": {},
   "outputs": [],
   "source": []
  },
  {
   "cell_type": "code",
   "execution_count": 29,
   "id": "820c9573",
   "metadata": {},
   "outputs": [],
   "source": [
    "model_linear=LinearRegression()"
   ]
  },
  {
   "cell_type": "code",
   "execution_count": 30,
   "id": "98038ee6",
   "metadata": {},
   "outputs": [
    {
     "name": "stdout",
     "output_type": "stream",
     "text": [
      "(4453834, 9)\n",
      "(1908786, 9)\n",
      "(4453834, 9)\n",
      "(1908786, 9)\n"
     ]
    }
   ],
   "source": [
    "x_train,x_test,y_train,y_test=train_test_split(x,y,train_size=0.7,random_state=100)\n",
    "print(x_train.shape)\n",
    "print(x_test.shape)"
   ]
  },
  {
   "cell_type": "code",
   "execution_count": 31,
   "id": "4f1363d0",
   "metadata": {},
   "outputs": [
    {
     "data": {
      "text/plain": [
       "LinearRegression()"
      ]
     },
     "execution_count": 31,
     "metadata": {},
     "output_type": "execute_result"
    },
    {
     "data": {
      "text/plain": [
       "LinearRegression()"
      ]
     },
     "execution_count": 31,
     "metadata": {},
     "output_type": "execute_result"
    }
   ],
   "source": [
    "names.append(model_linear)\n",
    "model_linear.fit(x_train,y_train)"
   ]
  },
  {
   "cell_type": "code",
   "execution_count": 32,
   "id": "eeb67d59",
   "metadata": {},
   "outputs": [
    {
     "data": {
      "text/plain": [
       "array([   13938.05885771,   -68276.83679583,  -277520.23945432,\n",
       "         407372.87349665,  -537490.89260388, -1261783.33159831,\n",
       "        1875700.92729855,    55322.01149776,     2322.11020374])"
      ]
     },
     "execution_count": 32,
     "metadata": {},
     "output_type": "execute_result"
    },
    {
     "data": {
      "text/plain": [
       "array([   13938.05885771,   -68276.83679583,  -277520.23945432,\n",
       "         407372.87349665,  -537490.89260388, -1261783.33159831,\n",
       "        1875700.92729855,    55322.01149776,     2322.11020374])"
      ]
     },
     "execution_count": 32,
     "metadata": {},
     "output_type": "execute_result"
    }
   ],
   "source": [
    "model_linear.coef_"
   ]
  },
  {
   "cell_type": "code",
   "execution_count": 33,
   "id": "506fb91c",
   "metadata": {},
   "outputs": [
    {
     "data": {
      "text/html": [
       "<div>\n",
       "<style scoped>\n",
       "    .dataframe tbody tr th:only-of-type {\n",
       "        vertical-align: middle;\n",
       "    }\n",
       "\n",
       "    .dataframe tbody tr th {\n",
       "        vertical-align: top;\n",
       "    }\n",
       "\n",
       "    .dataframe thead th {\n",
       "        text-align: right;\n",
       "    }\n",
       "</style>\n",
       "<table border=\"1\" class=\"dataframe\">\n",
       "  <thead>\n",
       "    <tr style=\"text-align: right;\">\n",
       "      <th></th>\n",
       "      <th>slope</th>\n",
       "    </tr>\n",
       "  </thead>\n",
       "  <tbody>\n",
       "    <tr>\n",
       "      <th>newbalanceDest</th>\n",
       "      <td>1.875701e+06</td>\n",
       "    </tr>\n",
       "    <tr>\n",
       "      <th>new_balance_t</th>\n",
       "      <td>4.073729e+05</td>\n",
       "    </tr>\n",
       "    <tr>\n",
       "      <th>isFraud</th>\n",
       "      <td>5.532201e+04</td>\n",
       "    </tr>\n",
       "    <tr>\n",
       "      <th>step</th>\n",
       "      <td>1.393806e+04</td>\n",
       "    </tr>\n",
       "    <tr>\n",
       "      <th>isFlaggedFraud</th>\n",
       "      <td>2.322110e+03</td>\n",
       "    </tr>\n",
       "    <tr>\n",
       "      <th>type</th>\n",
       "      <td>-6.827684e+04</td>\n",
       "    </tr>\n",
       "    <tr>\n",
       "      <th>inti_balence</th>\n",
       "      <td>-2.775202e+05</td>\n",
       "    </tr>\n",
       "    <tr>\n",
       "      <th>recipient_custmer</th>\n",
       "      <td>-5.374909e+05</td>\n",
       "    </tr>\n",
       "    <tr>\n",
       "      <th>oldbalanceDest</th>\n",
       "      <td>-1.261783e+06</td>\n",
       "    </tr>\n",
       "  </tbody>\n",
       "</table>\n",
       "</div>"
      ],
      "text/plain": [
       "                          slope\n",
       "newbalanceDest     1.875701e+06\n",
       "new_balance_t      4.073729e+05\n",
       "isFraud            5.532201e+04\n",
       "step               1.393806e+04\n",
       "isFlaggedFraud     2.322110e+03\n",
       "type              -6.827684e+04\n",
       "inti_balence      -2.775202e+05\n",
       "recipient_custmer -5.374909e+05\n",
       "oldbalanceDest    -1.261783e+06"
      ]
     },
     "execution_count": 33,
     "metadata": {},
     "output_type": "execute_result"
    },
    {
     "data": {
      "text/html": [
       "<div>\n",
       "<style scoped>\n",
       "    .dataframe tbody tr th:only-of-type {\n",
       "        vertical-align: middle;\n",
       "    }\n",
       "\n",
       "    .dataframe tbody tr th {\n",
       "        vertical-align: top;\n",
       "    }\n",
       "\n",
       "    .dataframe thead th {\n",
       "        text-align: right;\n",
       "    }\n",
       "</style>\n",
       "<table border=\"1\" class=\"dataframe\">\n",
       "  <thead>\n",
       "    <tr style=\"text-align: right;\">\n",
       "      <th></th>\n",
       "      <th>slope</th>\n",
       "    </tr>\n",
       "  </thead>\n",
       "  <tbody>\n",
       "    <tr>\n",
       "      <th>newbalanceDest</th>\n",
       "      <td>1.875701e+06</td>\n",
       "    </tr>\n",
       "    <tr>\n",
       "      <th>new_balance_t</th>\n",
       "      <td>4.073729e+05</td>\n",
       "    </tr>\n",
       "    <tr>\n",
       "      <th>isFraud</th>\n",
       "      <td>5.532201e+04</td>\n",
       "    </tr>\n",
       "    <tr>\n",
       "      <th>step</th>\n",
       "      <td>1.393806e+04</td>\n",
       "    </tr>\n",
       "    <tr>\n",
       "      <th>isFlaggedFraud</th>\n",
       "      <td>2.322110e+03</td>\n",
       "    </tr>\n",
       "    <tr>\n",
       "      <th>type</th>\n",
       "      <td>-6.827684e+04</td>\n",
       "    </tr>\n",
       "    <tr>\n",
       "      <th>inti_balence</th>\n",
       "      <td>-2.775202e+05</td>\n",
       "    </tr>\n",
       "    <tr>\n",
       "      <th>recipient_custmer</th>\n",
       "      <td>-5.374909e+05</td>\n",
       "    </tr>\n",
       "    <tr>\n",
       "      <th>oldbalanceDest</th>\n",
       "      <td>-1.261783e+06</td>\n",
       "    </tr>\n",
       "  </tbody>\n",
       "</table>\n",
       "</div>"
      ],
      "text/plain": [
       "                          slope\n",
       "newbalanceDest     1.875701e+06\n",
       "new_balance_t      4.073729e+05\n",
       "isFraud            5.532201e+04\n",
       "step               1.393806e+04\n",
       "isFlaggedFraud     2.322110e+03\n",
       "type              -6.827684e+04\n",
       "inti_balence      -2.775202e+05\n",
       "recipient_custmer -5.374909e+05\n",
       "oldbalanceDest    -1.261783e+06"
      ]
     },
     "execution_count": 33,
     "metadata": {},
     "output_type": "execute_result"
    }
   ],
   "source": [
    "pd.DataFrame(model_linear.coef_.reshape(-1,1),columns=['slope'],index=x.columns).sort_values(by='slope',ascending=False)"
   ]
  },
  {
   "cell_type": "code",
   "execution_count": 34,
   "id": "c2ba0e3b",
   "metadata": {},
   "outputs": [],
   "source": [
    "y_pred=model_linear.predict(x_test)"
   ]
  },
  {
   "cell_type": "code",
   "execution_count": 35,
   "id": "ea3f9378",
   "metadata": {},
   "outputs": [
    {
     "name": "stdout",
     "output_type": "stream",
     "text": [
      "ERRORS\n",
      "MAE is : 855808.2372718512\n",
      "MSE is : 1169989821820.486\n",
      "RMSE is : 1081660.67776382\n",
      "ERRORS\n",
      "MAE is : 855808.2372718512\n",
      "MSE is : 1169989821820.486\n",
      "RMSE is : 1081660.67776382\n"
     ]
    }
   ],
   "source": [
    "error(y_test,y_pred)"
   ]
  },
  {
   "cell_type": "code",
   "execution_count": 36,
   "id": "5bb5ae83",
   "metadata": {},
   "outputs": [
    {
     "data": {
      "image/png": "[encoded data removed]",
      "text/plain": [
       "<Figure size 432x288 with 1 Axes>"
      ]
     },
     "metadata": {
      "needs_background": "light"
     },
     "output_type": "display_data"
    },
    {
     "data": {
      "image/png": "[encoded data removed]",
      "text/plain": [
       "<Figure size 432x288 with 1 Axes>"
      ]
     },
     "metadata": {
      "needs_background": "light"
     },
     "output_type": "display_data"
    }
   ],
   "source": [
    "plt.scatter(range(len(y_test)),y_test,s=10,marker='*',c='green',label='Test Data')\n",
    "plt.scatter(range(len(y_test)),y_pred,s=10,marker='o',c='red',label='Predicted Data')\n",
    "plt.xlim(0,40)\n",
    "plt.show()"
   ]
  },
  {
   "cell_type": "code",
   "execution_count": 37,
   "id": "90e0bb79",
   "metadata": {},
   "outputs": [],
   "source": [
    "y_train_pred = model_linear.predict(x_train)\n",
    "res = (y_train - y_train_pred)"
   ]
  },
  {
   "cell_type": "code",
   "execution_count": 38,
   "id": "ecc916a9",
   "metadata": {},
   "outputs": [
    {
     "name": "stderr",
     "output_type": "stream",
     "text": [
      "C:\\Users\\HOME\\anaconda3\\lib\\site-packages\\seaborn\\distributions.py:2619: FutureWarning: `distplot` is a deprecated function and will be removed in a future version. Please adapt your code to use either `displot` (a figure-level function with similar flexibility) or `histplot` (an axes-level function for histograms).\n",
      "  warnings.warn(msg, FutureWarning)\n",
      "C:\\Users\\HOME\\anaconda3\\lib\\site-packages\\seaborn\\distributions.py:2619: FutureWarning: `distplot` is a deprecated function and will be removed in a future version. Please adapt your code to use either `displot` (a figure-level function with similar flexibility) or `histplot` (an axes-level function for histograms).\n",
      "  warnings.warn(msg, FutureWarning)\n"
     ]
    },
    {
     "data": {
      "image/png": "[encoded data removed]",
      "text/plain": [
       "<Figure size 432x288 with 1 Axes>"
      ]
     },
     "metadata": {
      "needs_background": "light"
     },
     "output_type": "display_data"
    },
    {
     "data": {
      "image/png": "[encoded data removed]",
      "text/plain": [
       "<Figure size 432x288 with 1 Axes>"
      ]
     },
     "metadata": {
      "needs_background": "light"
     },
     "output_type": "display_data"
    }
   ],
   "source": [
    "fig = plt.figure()\n",
    "sns.distplot(res, bins = 15)\n",
    "fig.suptitle('Error Terms', fontsize = 15)                  # Plot heading \n",
    "plt.xlabel('y_train - y_train_pred', fontsize = 15)         # X-label\n",
    "plt.show()"
   ]
  },
  {
   "cell_type": "code",
   "execution_count": null,
   "id": "a3f8ced6",
   "metadata": {},
   "outputs": [],
   "source": []
  },
  {
   "cell_type": "markdown",
   "id": "d18e6358",
   "metadata": {},
   "source": []
  },
  {
   "cell_type": "code",
   "execution_count": null,
   "id": "064bd5df",
   "metadata": {},
   "outputs": [],
   "source": []
  },
  {
   "cell_type": "code",
   "execution_count": null,
   "id": "6513800d",
   "metadata": {},
   "outputs": [],
   "source": []
  },
  {
   "cell_type": "code",
   "execution_count": null,
   "id": "77d5eca8",
   "metadata": {},
   "outputs": [],
   "source": []
  },
  {
   "cell_type": "code",
   "execution_count": null,
   "id": "f2472b59",
   "metadata": {},
   "outputs": [],
   "source": []
  },
  {
   "cell_type": "code",
   "execution_count": null,
   "id": "5778e6c3",
   "metadata": {},
   "outputs": [],
   "source": []
  },
  {
   "cell_type": "code",
   "execution_count": null,
   "id": "3e79c8c9",
   "metadata": {},
   "outputs": [],
   "source": []
  },
  {
   "cell_type": "code",
   "execution_count": null,
   "id": "b4cf9e56",
   "metadata": {},
   "outputs": [],
   "source": []
  }
 ],
 "metadata": {
  "kernelspec": {
   "display_name": "Python 3 (ipykernel)",
   "language": "python",
   "name": "python3"
  },
  "language_info": {
   "codemirror_mode": {
    "name": "ipython",
    "version": 3
   },
   "file_extension": ".py",
   "mimetype": "text/x-python",
   "name": "python",
   "nbconvert_exporter": "python",
   "pygments_lexer": "ipython3",
   "version": "3.9.12"
  }
 },
 "nbformat": 4,
 "nbformat_minor": 5
}
